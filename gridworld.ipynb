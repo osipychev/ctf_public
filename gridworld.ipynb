{
 "cells": [
  {
   "cell_type": "code",
   "execution_count": 31,
   "metadata": {},
   "outputs": [],
   "source": [
    "import numpy as np\n",
    "import matplotlib.pyplot as plt\n",
    "\n",
    "#defining grid world constants\n",
    "\n",
    "WORLD_H = 100\n",
    "WORLD_W = 100\n",
    "\n",
    "NUM_BLUE = 4\n",
    "NUM_RED = 4\n",
    "NUM_GRAY = 10\n",
    "\n",
    "AGENT_TEAMS = {\"RED\":0, \"BLUE\":1, \"GRAY\":2}"
   ]
  },
  {
   "cell_type": "code",
   "execution_count": 41,
   "metadata": {},
   "outputs": [],
   "source": [
    "class Grid_world():\n",
    "    \n",
    "    def __init__(self):\n",
    "        self.grid_world = np.zeros([WORLD_W,WORLD_H], dtype=int)\n",
    "        self.grid_world[:,0:int(WORLD_H/2)] = 0\n",
    "        self.grid_world[:,int(WORLD_H/2):WORLD_H] = 100\n",
    "    \n",
    "    def plot_map(self):\n",
    "        plt.imshow(self.grid_world)\n",
    "        plt.show()\n",
    "        \n",
    "    def plot_all(self,agents):\n",
    "        world_copy = np.copy(self.grid_world)\n",
    "        for agent in agents:\n",
    "            if agent.get_team == AGENT_TEAMS.RED: world_copy[agent.get_location()] = 50\n",
    "        plt.imshow(world_copy)\n",
    "        plt.show()"
   ]
  },
  {
   "cell_type": "code",
   "execution_count": 42,
   "metadata": {},
   "outputs": [],
   "source": [
    "# agent classes\n",
    "\n",
    "class Agent():\n",
    "    \n",
    "    def __init__(self, loc, team):\n",
    "        try:\n",
    "            self.x, self.y = loc\n",
    "            self.team = AGENT_TEAMS[team]\n",
    "        except:\n",
    "            print(\"error: cannot initialize agent\")\n",
    "    \n",
    "    def move(self,action):\n",
    "        if action == 0: \n",
    "            pass\n",
    "        elif action == 1: \n",
    "            self.x -= 1\n",
    "        elif action == 2:\n",
    "            self.x += 1\n",
    "        elif action == 3:\n",
    "            self.y -= 1\n",
    "        elif action == 4:\n",
    "            self.y += 1\n",
    "        else:\n",
    "            print(\"error: wrong action selected\")\n",
    "            \n",
    "    def get_location(self):\n",
    "        return self.x, self.y\n",
    "    \n",
    "    def get_team(self):\n",
    "        return self\n",
    "            \n",
    "    def report_location(self):\n",
    "        print(\"report: position x:%d, y:%d\" % (self.x,self.y))\n",
    "            \n",
    "\n",
    "class GroundVehicle(Agent):\n",
    "    \n",
    "    def __init__(self,loc,team):\n",
    "        Agent.__init__(self,loc,team)"
   ]
  },
  {
   "cell_type": "code",
   "execution_count": 43,
   "metadata": {},
   "outputs": [
    {
     "name": "stdout",
     "output_type": "stream",
     "text": [
      "error: cannot initialize agent\n",
      "error: cannot initialize agent\n",
      "error: cannot initialize agent\n",
      "error: cannot initialize agent\n"
     ]
    },
    {
     "ename": "AttributeError",
     "evalue": "'dict' object has no attribute 'RED'",
     "output_type": "error",
     "traceback": [
      "\u001b[0;31m---------------------------------------------------------------------------\u001b[0m",
      "\u001b[0;31mAttributeError\u001b[0m                            Traceback (most recent call last)",
      "\u001b[0;32m<ipython-input-43-3a7f0a33c160>\u001b[0m in \u001b[0;36m<module>\u001b[0;34m()\u001b[0m\n\u001b[1;32m     12\u001b[0m \u001b[0;32mfor\u001b[0m \u001b[0mt\u001b[0m \u001b[0;32min\u001b[0m \u001b[0mrange\u001b[0m\u001b[0;34m(\u001b[0m\u001b[0;36m5\u001b[0m\u001b[0;34m)\u001b[0m\u001b[0;34m:\u001b[0m\u001b[0;34m\u001b[0m\u001b[0m\n\u001b[1;32m     13\u001b[0m     \u001b[0;32mfor\u001b[0m \u001b[0magent\u001b[0m \u001b[0;32min\u001b[0m \u001b[0magents_list\u001b[0m\u001b[0;34m:\u001b[0m \u001b[0magent\u001b[0m\u001b[0;34m.\u001b[0m\u001b[0mmove\u001b[0m\u001b[0;34m(\u001b[0m\u001b[0mnp\u001b[0m\u001b[0;34m.\u001b[0m\u001b[0mrandom\u001b[0m\u001b[0;34m.\u001b[0m\u001b[0mrandint\u001b[0m\u001b[0;34m(\u001b[0m\u001b[0;36m0\u001b[0m\u001b[0;34m,\u001b[0m\u001b[0;36m4\u001b[0m\u001b[0;34m)\u001b[0m\u001b[0;34m)\u001b[0m\u001b[0;34m\u001b[0m\u001b[0m\n\u001b[0;32m---> 14\u001b[0;31m     \u001b[0mgr\u001b[0m\u001b[0;34m.\u001b[0m\u001b[0mplot_all\u001b[0m\u001b[0;34m(\u001b[0m\u001b[0magents_list\u001b[0m\u001b[0;34m)\u001b[0m\u001b[0;34m\u001b[0m\u001b[0m\n\u001b[0m",
      "\u001b[0;32m<ipython-input-41-04706900c0f4>\u001b[0m in \u001b[0;36mplot_all\u001b[0;34m(self, agents)\u001b[0m\n\u001b[1;32m     13\u001b[0m         \u001b[0mworld_copy\u001b[0m \u001b[0;34m=\u001b[0m \u001b[0mnp\u001b[0m\u001b[0;34m.\u001b[0m\u001b[0mcopy\u001b[0m\u001b[0;34m(\u001b[0m\u001b[0mself\u001b[0m\u001b[0;34m.\u001b[0m\u001b[0mgrid_world\u001b[0m\u001b[0;34m)\u001b[0m\u001b[0;34m\u001b[0m\u001b[0m\n\u001b[1;32m     14\u001b[0m         \u001b[0;32mfor\u001b[0m \u001b[0magent\u001b[0m \u001b[0;32min\u001b[0m \u001b[0magents\u001b[0m\u001b[0;34m:\u001b[0m\u001b[0;34m\u001b[0m\u001b[0m\n\u001b[0;32m---> 15\u001b[0;31m             \u001b[0;32mif\u001b[0m \u001b[0magent\u001b[0m\u001b[0;34m.\u001b[0m\u001b[0mget_team\u001b[0m \u001b[0;34m==\u001b[0m \u001b[0mAGENT_TEAMS\u001b[0m\u001b[0;34m.\u001b[0m\u001b[0mRED\u001b[0m\u001b[0;34m:\u001b[0m \u001b[0mworld_copy\u001b[0m\u001b[0;34m[\u001b[0m\u001b[0magent\u001b[0m\u001b[0;34m.\u001b[0m\u001b[0mget_location\u001b[0m\u001b[0;34m(\u001b[0m\u001b[0;34m)\u001b[0m\u001b[0;34m]\u001b[0m \u001b[0;34m=\u001b[0m \u001b[0;36m50\u001b[0m\u001b[0;34m\u001b[0m\u001b[0m\n\u001b[0m\u001b[1;32m     16\u001b[0m         \u001b[0mplt\u001b[0m\u001b[0;34m.\u001b[0m\u001b[0mimshow\u001b[0m\u001b[0;34m(\u001b[0m\u001b[0mworld_copy\u001b[0m\u001b[0;34m)\u001b[0m\u001b[0;34m\u001b[0m\u001b[0m\n\u001b[1;32m     17\u001b[0m         \u001b[0mplt\u001b[0m\u001b[0;34m.\u001b[0m\u001b[0mshow\u001b[0m\u001b[0;34m(\u001b[0m\u001b[0;34m)\u001b[0m\u001b[0;34m\u001b[0m\u001b[0m\n",
      "\u001b[0;31mAttributeError\u001b[0m: 'dict' object has no attribute 'RED'"
     ]
    }
   ],
   "source": [
    "gr = Grid_world()\n",
    "agents_list = []\n",
    "\n",
    "for i in range(4):\n",
    "    l = np.random.randint(0,100,[2])\n",
    "    agents_list.append(GroundVehicle(l,\"RED\"))\n",
    "    l = np.random.randint(0,100,[2])\n",
    "    agents_list.append(GroundVehicle(l,\"BLUE\"))\n",
    "    l = np.random.randint(0,100,[2])\n",
    "    agents_list.append(GroundVehicle(l,\"GRAY\"))\n",
    "\n",
    "for t in range(5):\n",
    "    for agent in agents_list: agent.move(np.random.randint(0,4))\n",
    "    gr.plot_all(agents_list)"
   ]
  },
  {
   "cell_type": "code",
   "execution_count": null,
   "metadata": {
    "collapsed": true
   },
   "outputs": [],
   "source": []
  }
 ],
 "metadata": {
  "kernelspec": {
   "display_name": "Python 3",
   "language": "python",
   "name": "python3"
  },
  "language_info": {
   "codemirror_mode": {
    "name": "ipython",
    "version": 3
   },
   "file_extension": ".py",
   "mimetype": "text/x-python",
   "name": "python",
   "nbconvert_exporter": "python",
   "pygments_lexer": "ipython3",
   "version": "3.6.2"
  }
 },
 "nbformat": 4,
 "nbformat_minor": 2
}
