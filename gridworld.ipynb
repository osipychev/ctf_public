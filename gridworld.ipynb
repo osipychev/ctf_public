{
 "cells": [
  {
   "cell_type": "code",
   "execution_count": 59,
   "metadata": {},
   "outputs": [
    {
     "data": {
      "image/png": "[encoded data removed]",
      "text/plain": [
       "<matplotlib.figure.Figure at 0x7faecf5e4b70>"
      ]
     },
     "metadata": {},
     "output_type": "display_data"
    },
    {
     "name": "stdout",
     "output_type": "stream",
     "text": [
      "[[0 0 0 ..., 0 0 0]\n",
      " [0 0 0 ..., 0 0 0]\n",
      " [0 0 0 ..., 0 0 0]\n",
      " ..., \n",
      " [0 0 0 ..., 0 0 0]\n",
      " [0 0 0 ..., 0 0 0]\n",
      " [0 0 0 ..., 0 0 0]]\n"
     ]
    }
   ],
   "source": [
    "import numpy as np\n",
    "import matplotlib.pyplot as plt\n",
    "\n",
    "#grid world constants\n",
    "\n",
    "WORLD_H = 100\n",
    "WORLD_W = 100\n",
    "\n",
    "NUM_BLUE = 4\n",
    "NUM_RED = 4\n",
    "\n",
    "def gen_map():\n",
    "    grid_world = np.zeros([WORLD_W,WORLD_H], dtype=int)\n",
    "    grid_world[34,53] = 100\n",
    "    return grid_world\n",
    "    \n",
    "def plot_map(map_):\n",
    "    return \n",
    "    \n",
    "my_map = gen_map()\n",
    "plt.imshow(my_map)\n",
    "plt.show()\n",
    "print(my_map)"
   ]
  },
  {
   "cell_type": "code",
   "execution_count": 43,
   "metadata": {
    "collapsed": true
   },
   "outputs": [],
   "source": [
    "# agent classes\n",
    "\n",
    "class GroundVehicle(object):\n",
    "    def __init__(self):\n",
    "        self.x, self.y = 1, 2\n",
    "        \n",
    "    def report(self):\n",
    "        print(\"position x:%d, y:%d\" % (self.x,self.y))\n",
    "        \n",
    "# agent classes\n",
    "\n",
    "class AerialVehicle(object):\n",
    "    def __init__(self):\n",
    "        self.x, self.y = 1, 2\n",
    "        \n",
    "    def report(self):\n",
    "        print(\"position x:%d, y:%d\" % (self.x,self.y))"
   ]
  },
  {
   "cell_type": "code",
   "execution_count": 34,
   "metadata": {},
   "outputs": [
    {
     "name": "stdout",
     "output_type": "stream",
     "text": [
      "position x:1, y:2\n",
      "position x:1, y:2\n"
     ]
    }
   ],
   "source": [
    "ugv1 = GroundVehicle()\n",
    "ugv1.report()\n",
    "\n",
    "uav1 = AerialVehicle()\n",
    "uav1.report()"
   ]
  },
  {
   "cell_type": "code",
   "execution_count": null,
   "metadata": {
    "collapsed": true
   },
   "outputs": [],
   "source": []
  }
 ],
 "metadata": {
  "kernelspec": {
   "display_name": "Python 3",
   "language": "python",
   "name": "python3"
  },
  "language_info": {
   "codemirror_mode": {
    "name": "ipython",
    "version": 3
   },
   "file_extension": ".py",
   "mimetype": "text/x-python",
   "name": "python",
   "nbconvert_exporter": "python",
   "pygments_lexer": "ipython3",
   "version": "3.6.3"
  }
 },
 "nbformat": 4,
 "nbformat_minor": 2
}
