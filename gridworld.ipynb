{
 "cells": [
  {
   "cell_type": "code",
   "execution_count": 50,
   "metadata": {},
   "outputs": [],
   "source": [
    "import numpy as np\n",
    "import matplotlib.pyplot as plt\n",
    "\n",
    "##=== Defining grid world constants\n",
    "\n",
    "WORLD_H = 100\n",
    "WORLD_W = 100\n",
    "\n",
    "NUM_BLUE = 4\n",
    "NUM_RED = 4\n",
    "NUM_GRAY = 10\n",
    "\n",
    "#PLOTTING = True\n",
    "fig = plt.figure(figsize=(12, 12))\n",
    "\n",
    "class Team:\n",
    "    RED = 10\n",
    "    BLUE = 50\n",
    "    GRAY = 90\n",
    "    \n",
    "class MapCodes:\n",
    "    RED_ZONE = 15\n",
    "    BLUE_ZONE = 55\n",
    "    OBSTACLE = 100\n",
    "    AERIAL_DENIAL = 95\n",
    "    RED_ZONE_XY = [[0,WORLD_W/2],[0,WORLD_H]]\n",
    "    BLUE_ZONE_XY = [[WORLD_W/2,WORLD_W],[0,WORLD_H]]"
   ]
  },
  {
   "cell_type": "code",
   "execution_count": 51,
   "metadata": {
    "collapsed": true
   },
   "outputs": [],
   "source": [
    "class StateMachine(object):\n",
    "    def __init__(self):\n",
    "        self.state = None\n"
   ]
  },
  {
   "cell_type": "code",
   "execution_count": 52,
   "metadata": {},
   "outputs": [],
   "source": [
    "class GridWorld(object):\n",
    "        \n",
    "    def __init__(self):\n",
    "        self._grid_world = np.zeros([WORLD_W,WORLD_H], dtype=int)\n",
    "\n",
    "        #zones and obstacles\n",
    "        self._grid_world[:,0:int(WORLD_H/2)] = MapCodes.RED_ZONE\n",
    "        self._grid_world[:,int(WORLD_H/2):WORLD_H] = MapCodes.BLUE_ZONE\n",
    "        self._grid_world[10:35,10:35] = MapCodes.OBSTACLE\n",
    "        self._grid_world[10:35,65:90] = MapCodes.OBSTACLE\n",
    "        self._grid_world[65:90,10:35] = MapCodes.OBSTACLE\n",
    "        self._grid_world[65:90,65:90] = MapCodes.OBSTACLE\n",
    "        \n",
    "    def get_map(self):\n",
    "        return self._grid_world\n",
    "        \n",
    "    def plot_map(self):\n",
    "        plt.imshow(self._grid_world)\n",
    "        plt.show()\n",
    "        \n",
    "    def plot_all(self,agents):\n",
    "        world_copy = np.copy(self._grid_world)\n",
    "        for agent in agents:\n",
    "            \n",
    "            if agent.get_team() == Team.RED: world_copy[agent.get_location()] = 55\n",
    "            if agent.get_team() == Team.BLUE: world_copy[agent.get_location()] = 5\n",
    "            if agent.get_team() == Team.GRAY: world_copy[agent.get_location()] =75\n",
    "       \n",
    "        plt.imshow(world_copy)\n",
    "        plt.show()\n",
    "        plt.gcf().clear()"
   ]
  },
  {
   "cell_type": "code",
   "execution_count": 53,
   "metadata": {
    "collapsed": true
   },
   "outputs": [],
   "source": [
    "# agent classes\n",
    "\n",
    "class Agent():\n",
    "    \n",
    "    def __init__(self, loc, team):\n",
    "        try:\n",
    "            self.x, self.y = loc\n",
    "            self.team = team\n",
    "        except:\n",
    "            print(\"error: cannot initialize agent\")\n",
    "    \n",
    "    def move(self,action):\n",
    "        x,y = self.x, self.y\n",
    "        if action == 0: \n",
    "            pass\n",
    "        elif action == 1: \n",
    "            x -= 1\n",
    "        elif action == 2:\n",
    "            x += 1\n",
    "        elif action == 3:\n",
    "            y -= 1\n",
    "        elif action == 4:\n",
    "            y += 1\n",
    "        else:\n",
    "            print(\"error: wrong action selected\")\n",
    "        self.x, self.y = x, y\n",
    "            \n",
    "    def get_location(self):\n",
    "        return self.x, self.y\n",
    "    \n",
    "    def get_team(self):\n",
    "        return self.team\n",
    "            \n",
    "    def report_location(self):\n",
    "        print(\"report: position x:%d, y:%d\" % (self.x,self.y))\n",
    "            \n",
    "\n",
    "class GroundVehicle(Agent):\n",
    "    \n",
    "    def __init__(self,loc,team):\n",
    "        Agent.__init__(self,loc,team)\n",
    "        \n",
    "class AerialVehicle(Agent):\n",
    "    \n",
    "    def __init__(self,loc,team):\n",
    "        Agent.__init__(self,loc,team)"
   ]
  },
  {
   "cell_type": "code",
   "execution_count": 54,
   "metadata": {},
   "outputs": [
    {
     "data": {
      "text/plain": [
       "<matplotlib.figure.Figure at 0x7f79cebb78d0>"
      ]
     },
     "metadata": {},
     "output_type": "display_data"
    },
    {
     "data": {
      "text/plain": [
       "<matplotlib.figure.Figure at 0x7f79ceb657f0>"
      ]
     },
     "metadata": {},
     "output_type": "display_data"
    },
    {
     "data": {
      "text/plain": [
       "<matplotlib.figure.Figure at 0x7f79cec0f5f8>"
      ]
     },
     "metadata": {},
     "output_type": "display_data"
    },
    {
     "data": {
      "image/png": "[encoded data removed]",
      "text/plain": [
       "<matplotlib.figure.Figure at 0x7f79ceb42860>"
      ]
     },
     "metadata": {},
     "output_type": "display_data"
    }
   ],
   "source": [
    "gr = GridWorld()\n",
    "agents_list = []\n",
    "\n",
    "for i in range(4):\n",
    "    l = np.random.randint(0,100,[2])\n",
    "    agents_list.append(GroundVehicle(l, Team.RED))\n",
    "    l = np.random.randint(0,100,[2])\n",
    "    agents_list.append(GroundVehicle(l, Team.BLUE))\n",
    "    l = np.random.randint(0,100,[2])\n",
    "    agents_list.append(GroundVehicle(l, Team.GRAY))\n",
    "\n",
    "gr.plot_all(agents_list)"
   ]
  },
  {
   "cell_type": "code",
   "execution_count": null,
   "metadata": {
    "collapsed": true
   },
   "outputs": [],
   "source": []
  },
  {
   "cell_type": "code",
   "execution_count": null,
   "metadata": {
    "collapsed": true
   },
   "outputs": [],
   "source": []
  }
 ],
 "metadata": {
  "kernelspec": {
   "display_name": "Python 3",
   "language": "python",
   "name": "python3"
  },
  "language_info": {
   "codemirror_mode": {
    "name": "ipython",
    "version": 3
   },
   "file_extension": ".py",
   "mimetype": "text/x-python",
   "name": "python",
   "nbconvert_exporter": "python",
   "pygments_lexer": "ipython3",
   "version": "3.6.3"
  }
 },
 "nbformat": 4,
 "nbformat_minor": 2
}
